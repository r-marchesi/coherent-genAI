{
 "cells": [
  {
   "cell_type": "code",
   "execution_count": null,
   "metadata": {},
   "outputs": [],
   "source": [
    "import pandas as pd\n",
    "import matplotlib.pyplot as plt\n",
    "import umap\n",
    "from sklearn.decomposition import PCA\n",
    "import numpy as np\n",
    "import copy as cp"
   ]
  },
  {
   "cell_type": "code",
   "execution_count": null,
   "metadata": {},
   "outputs": [],
   "source": [
    "# Load the clinical data\n",
    "clinical = pd.read_csv('../datasets_TCGA/merged/merged_clinical.csv')"
   ]
  },
  {
   "cell_type": "code",
   "execution_count": null,
   "metadata": {},
   "outputs": [],
   "source": [
    "clinical.shape"
   ]
  },
  {
   "cell_type": "code",
   "execution_count": null,
   "metadata": {},
   "outputs": [],
   "source": [
    "to_delete = pd.read_csv('../datasets_TCGA/summary_removed_<2_omics_TCGA.tsv', sep='\\t')\n",
    "to_keep = pd.read_csv('../datasets_TCGA/summary_omics_>1_TCGA.tsv', sep='\\t')"
   ]
  },
  {
   "cell_type": "code",
   "execution_count": null,
   "metadata": {},
   "outputs": [],
   "source": [
    "to_delete.shape"
   ]
  },
  {
   "cell_type": "code",
   "execution_count": null,
   "metadata": {},
   "outputs": [],
   "source": [
    "to_keep_ids = to_keep['sample_id'].astype(str).values\n",
    "to_keep_cancer_types = to_keep['cancertype'].astype(str).values"
   ]
  },
  {
   "cell_type": "code",
   "execution_count": null,
   "metadata": {},
   "outputs": [],
   "source": [
    "# Filter out the patients or samples with less than 2 omics \n",
    "clinical_filtered = clinical[clinical['sample_id'].astype(str).isin(to_keep_ids)].reset_index(drop=True)"
   ]
  },
  {
   "cell_type": "code",
   "execution_count": null,
   "metadata": {},
   "outputs": [],
   "source": [
    "clinical_filtered.shape"
   ]
  },
  {
   "cell_type": "code",
   "execution_count": null,
   "metadata": {},
   "outputs": [],
   "source": [
    "# Merge cancertype into clinical_filtered based on sample_id\n",
    "merged = clinical_filtered.merge(\n",
    "    to_keep[['sample_id', 'cancertype']],\n",
    "    on='sample_id',\n",
    "    how='left'\n",
    ")\n",
    "\n",
    "cols = list(merged.columns)\n",
    "if 'sample_id' in cols and 'cancertype' in cols:\n",
    "    cols.insert(cols.index('sample_id') + 1, cols.pop(cols.index('cancertype')))\n",
    "    merged = merged[cols]\n",
    "\n",
    "clinical_filtered = merged"
   ]
  },
  {
   "cell_type": "code",
   "execution_count": null,
   "metadata": {},
   "outputs": [],
   "source": [
    "clinical_filtered.head()"
   ]
  },
  {
   "cell_type": "code",
   "execution_count": null,
   "metadata": {},
   "outputs": [],
   "source": [
    "#[(clinical['gender.demographic'] != 'female') & (clinical['gender.demographic'] !='male')]\n",
    "\n",
    "\n",
    "# keeping the relevant variables\n",
    "keep_columns = ['sample_id',\n",
    "                'cancertype',\n",
    "                'gender.demographic', \n",
    "                'vital_status.demographic',\n",
    "                'age_at_index.demographic',\n",
    "                'ajcc_pathologic_stage.diagnoses', \n",
    "                'primary_diagnosis.diagnoses',\n",
    "                'ajcc_pathologic_t.diagnoses',\n",
    "                'ajcc_pathologic_n.diagnoses',\n",
    "                'ajcc_pathologic_m.diagnoses',\n",
    "                'tissue_type.samples',\n",
    "                ]\n",
    "\n",
    "clinical_filtered = clinical_filtered[keep_columns]\n",
    "\n",
    "\n",
    "# Select the relevant columns (assuming cancertype is already merged in)\n",
    "cols_to_check = [col for col in clinical_filtered.columns if col != 'sample_id']\n",
    "cols_to_check = [col for col in cols_to_check if col != 'cancertype']\n",
    "\n",
    "# Group by cancertype and count NaNs\n",
    "nan_counts = clinical_filtered.groupby('cancertype')[cols_to_check].apply(lambda df: df.isna().sum())\n",
    "\n",
    "# Plot\n",
    "nan_counts.plot(kind='bar', figsize=(14, 6), width=0.85)\n",
    "\n",
    "plt.title('Number of NaNs per Cancer Type per Column')\n",
    "plt.ylabel('Number of Missing Values')\n",
    "plt.xlabel('Cancer Type')\n",
    "plt.xticks(rotation=45, ha='right')\n",
    "plt.tight_layout()\n",
    "plt.legend(title=\"Variable\", bbox_to_anchor=(1.05, 1), loc='upper left')\n",
    "plt.grid(axis='y', linestyle='--', alpha=0.6)\n",
    "plt.show()"
   ]
  },
  {
   "cell_type": "code",
   "execution_count": null,
   "metadata": {},
   "outputs": [],
   "source": []
  },
  {
   "cell_type": "code",
   "execution_count": null,
   "metadata": {},
   "outputs": [],
   "source": [
    "# The majority of the NaNs are in tumors mutually exclusive in terms of gender, so they can be inferred. \n",
    "clinical_filtered['gender.demographic'].value_counts()"
   ]
  },
  {
   "cell_type": "code",
   "execution_count": null,
   "metadata": {},
   "outputs": [],
   "source": [
    "clinical_filtered['gender.demographic'].isna().sum()"
   ]
  },
  {
   "cell_type": "code",
   "execution_count": null,
   "metadata": {},
   "outputs": [],
   "source": [
    "# Gender.demographic based on cancer type\n",
    "sex_map = {\n",
    "    'OV': 'female',\n",
    "    'UCEC': 'female',\n",
    "    'CESC': 'female',\n",
    "    'PRAD': 'male',\n",
    "    'TGCT': 'male',\n",
    "}\n",
    "\n",
    "# Fill in gender where it's missing and the cancer type is in the map\n",
    "mask = clinical_filtered['gender.demographic'].isna() & clinical_filtered['cancertype'].isin(sex_map.keys())\n",
    "clinical_filtered.loc[mask, 'gender.demographic'] = clinical_filtered.loc[mask, 'cancertype'].map(sex_map)\n",
    "\n",
    "# Compute NaN counts per cancer type\n",
    "cols_to_check = [col for col in keep_columns if col not in ['sample_id', 'cancertype']]\n",
    "nan_counts = clinical_filtered.groupby('cancertype')[cols_to_check].apply(lambda df: df.isna().sum())\n",
    "\n",
    "# Plot\n",
    "nan_counts.plot(kind='bar', figsize=(14, 6), width=0.85)\n",
    "plt.title('Number of NaNs per Cancer Type per Column (gender imputed biologically)')\n",
    "plt.ylabel('Number of Missing Values')\n",
    "plt.xlabel('Cancer Type')\n",
    "plt.xticks(rotation=45, ha='right')\n",
    "plt.tight_layout()\n",
    "plt.legend(title=\"Variable\", bbox_to_anchor=(1.01, 1), loc='upper left')\n",
    "plt.grid(axis='y', linestyle='--', alpha=0.5)\n",
    "plt.show()"
   ]
  },
  {
   "cell_type": "code",
   "execution_count": null,
   "metadata": {},
   "outputs": [],
   "source": []
  },
  {
   "cell_type": "code",
   "execution_count": null,
   "metadata": {},
   "outputs": [],
   "source": [
    "# Since the \"Not Reported are only 13, I decided to put them in Nan, and then decide what to do with them later.\n",
    "clinical_filtered['vital_status.demographic'].value_counts()"
   ]
  },
  {
   "cell_type": "code",
   "execution_count": null,
   "metadata": {},
   "outputs": [],
   "source": [
    "clinical_filtered[\"vital_status.demographic\"].isna().sum()"
   ]
  },
  {
   "cell_type": "code",
   "execution_count": null,
   "metadata": {},
   "outputs": [],
   "source": [
    "clinical_filtered[\"vital_status.demographic\"] = clinical_filtered[\"vital_status.demographic\"].replace(\"Not Reported\", pd.NA)"
   ]
  },
  {
   "cell_type": "code",
   "execution_count": null,
   "metadata": {},
   "outputs": [],
   "source": [
    "clinical_filtered[\"vital_status.demographic\"].isna().sum()"
   ]
  },
  {
   "cell_type": "code",
   "execution_count": null,
   "metadata": {},
   "outputs": [],
   "source": []
  },
  {
   "cell_type": "code",
   "execution_count": null,
   "metadata": {},
   "outputs": [],
   "source": [
    "# Kept as it is. Na kept at the moment. \n",
    "clinical_filtered['age_at_index.demographic'].value_counts()"
   ]
  },
  {
   "cell_type": "code",
   "execution_count": null,
   "metadata": {},
   "outputs": [],
   "source": [
    "clinical_filtered[\"age_at_index.demographic\"].isna().sum()"
   ]
  },
  {
   "cell_type": "code",
   "execution_count": null,
   "metadata": {},
   "outputs": [],
   "source": [
    "clinical_filtered.shape[0] - clinical_filtered['age_at_index.demographic'].value_counts().sum()"
   ]
  },
  {
   "cell_type": "code",
   "execution_count": null,
   "metadata": {},
   "outputs": [],
   "source": []
  },
  {
   "cell_type": "code",
   "execution_count": null,
   "metadata": {},
   "outputs": [],
   "source": [
    "# Not included, too many Nans, and the class is too complex\n",
    "clinical_filtered['ajcc_pathologic_stage.diagnoses'].value_counts()"
   ]
  },
  {
   "cell_type": "code",
   "execution_count": null,
   "metadata": {},
   "outputs": [],
   "source": [
    "clinical_filtered[\"ajcc_pathologic_stage.diagnoses\"].isna().sum()"
   ]
  },
  {
   "cell_type": "code",
   "execution_count": null,
   "metadata": {},
   "outputs": [],
   "source": [
    "clinical_filtered.shape[0] - clinical_filtered['ajcc_pathologic_stage.diagnoses'].value_counts().sum()"
   ]
  },
  {
   "cell_type": "code",
   "execution_count": null,
   "metadata": {},
   "outputs": [],
   "source": []
  },
  {
   "cell_type": "code",
   "execution_count": null,
   "metadata": {},
   "outputs": [],
   "source": [
    "clinical_filtered['primary_diagnosis.diagnoses'].value_counts()"
   ]
  },
  {
   "cell_type": "code",
   "execution_count": null,
   "metadata": {},
   "outputs": [],
   "source": [
    "clinical_filtered[\"primary_diagnosis.diagnoses\"].isna().sum()"
   ]
  },
  {
   "cell_type": "code",
   "execution_count": null,
   "metadata": {},
   "outputs": [],
   "source": [
    "clinical_filtered.shape[0] - clinical_filtered['primary_diagnosis.diagnoses'].value_counts().sum()"
   ]
  },
  {
   "cell_type": "code",
   "execution_count": null,
   "metadata": {},
   "outputs": [],
   "source": [
    "diag = clinical_filtered['primary_diagnosis.diagnoses'].astype(str)\n",
    "\n",
    "def collapse_dx(x):\n",
    "    if x == 'nan':\n",
    "        return np.nan                          # keep missing distinct\n",
    "    x_low = x.lower()\n",
    "    if 'carcinoma' in x_low:\n",
    "        return 'Carcinoma'\n",
    "    if 'melanoma' in x_low:\n",
    "        return 'Melanoma'\n",
    "    if 'sarcoma' in x_low:\n",
    "        return 'Sarcoma'\n",
    "    if any(term in x_low for term in ['germ cell', 'teratoma', 'seminoma', 'yolk sac', 'embryonal']):\n",
    "        return 'Germ-cell'\n",
    "    return 'Other'\n",
    "\n",
    "\n",
    "clinical_filtered_ = cp.deepcopy(clinical_filtered)\n",
    "clinical_filtered_['dx_group'] = diag.map(collapse_dx)\n",
    "\n",
    "# Quick sanity check\n",
    "clinical_filtered_['dx_group'].value_counts(dropna=False)"
   ]
  },
  {
   "cell_type": "code",
   "execution_count": null,
   "metadata": {},
   "outputs": [],
   "source": [
    "import numpy as np\n",
    "import matplotlib.pyplot as plt\n",
    "\n",
    "\n",
    "# 1. Total dataset size\n",
    "total = len(clinical_filtered_)\n",
    "print(f\"Total samples after filtering: {total}\")\n",
    "\n",
    "# 2. Patients per class (only the 5 groups, drop NaN)\n",
    "counts = clinical_filtered_['dx_group'].value_counts(dropna=True)\n",
    "print(\"\\nPatients per diagnostic super-class:\")\n",
    "print(counts)\n",
    "\n",
    "# 3. Scatter plot\n",
    "#   x positions 0–4, y = counts; color‐coded by class index\n",
    "x = np.arange(len(counts))\n",
    "y = counts.values\n",
    "\n",
    "plt.figure(figsize=(8, 5))\n",
    "plt.scatter(x, y, c=x)               # map each class to a different color automatically\n",
    "plt.xticks(x, counts.index, rotation=45, ha='right')\n",
    "plt.ylabel(\"Number of patients\")\n",
    "plt.title(\"Patient counts by diagnostic super-class\")\n",
    "plt.tight_layout()\n",
    "plt.show()\n"
   ]
  },
  {
   "cell_type": "code",
   "execution_count": null,
   "metadata": {},
   "outputs": [],
   "source": [
    "# Check the classes\n",
    "n_variables = 30\n",
    "rnaseq = pd.read_csv(f'../datasets_TCGA/merged/reduced_rnaseq_{n_variables}.csv')"
   ]
  },
  {
   "cell_type": "code",
   "execution_count": null,
   "metadata": {},
   "outputs": [],
   "source": [
    "rnaseq.shape"
   ]
  },
  {
   "cell_type": "code",
   "execution_count": null,
   "metadata": {},
   "outputs": [],
   "source": [
    "# Only set the index if it's not already set\n",
    "if 'sample_id' in rnaseq.columns:\n",
    "    rnaseq = rnaseq.set_index(\"sample_id\")\n",
    "\n",
    "# Likewise for the metadata\n",
    "meta = clinical_filtered_.set_index('sample_id')['dx_group'].dropna()\n",
    "# meta = clinical_filtered_['dx_group']\n",
    "# meta = meta[meta.notna() & (meta != 'Other')]\n",
    "\n",
    "# Align metadata and expression data\n",
    "common_ids = meta.index.intersection(rnaseq.index)\n",
    "rnaseq_sub = rnaseq.loc[common_ids]\n",
    "dx_groups = meta.loc[common_ids].astype('category')"
   ]
  },
  {
   "cell_type": "code",
   "execution_count": null,
   "metadata": {},
   "outputs": [],
   "source": [
    "# 4. PCA\n",
    "pca = PCA(n_components=2)\n",
    "coords = pca.fit_transform(rnaseq_sub.values)"
   ]
  },
  {
   "cell_type": "code",
   "execution_count": null,
   "metadata": {},
   "outputs": [],
   "source": [
    "# 5. Plot\n",
    "plt.figure(figsize=(8, 6))\n",
    "for cat in dx_groups.cat.categories:\n",
    "    mask = dx_groups == cat\n",
    "    plt.scatter(coords[mask, 0], coords[mask, 1], s=20, label=cat)\n",
    "plt.xlabel('PC1')\n",
    "plt.ylabel('PC2')\n",
    "plt.title('PCA of RNA-seq by Diagnostic Group')\n",
    "plt.legend(title='Group', bbox_to_anchor=(1.05, 1), loc='upper left')\n",
    "plt.tight_layout()\n",
    "plt.show()"
   ]
  },
  {
   "cell_type": "code",
   "execution_count": null,
   "metadata": {},
   "outputs": [],
   "source": [
    "# 6. UMAP\n",
    "\n",
    "umap_model = umap.UMAP(n_components=2, random_state=42)\n",
    "umap_coords = umap_model.fit_transform(rnaseq_sub.values)\n",
    "\n"
   ]
  },
  {
   "cell_type": "code",
   "execution_count": null,
   "metadata": {},
   "outputs": [],
   "source": [
    "# 7. UMAP Plot\n",
    "plt.figure(figsize=(8, 6))\n",
    "for cat in dx_groups.cat.categories:\n",
    "    mask = dx_groups == cat\n",
    "    plt.scatter(umap_coords[mask, 0], umap_coords[mask, 1], s=2, alpha = .7, label=cat)\n",
    "plt.xlabel('UMAP1')\n",
    "plt.ylabel('UMAP2')\n",
    "plt.title('UMAP of RNA-seq by Diagnostic Group')\n",
    "plt.legend(title='Group', bbox_to_anchor=(1.05, 1), loc='upper left')\n",
    "plt.tight_layout()\n",
    "plt.show()"
   ]
  },
  {
   "cell_type": "code",
   "execution_count": null,
   "metadata": {},
   "outputs": [],
   "source": []
  },
  {
   "cell_type": "code",
   "execution_count": null,
   "metadata": {},
   "outputs": [],
   "source": [
    "diag = clinical_filtered['primary_diagnosis.diagnoses'].astype(str)\n",
    "\n",
    "def collapse_dx(x):\n",
    "    if x == 'nan':\n",
    "        return np.nan                          # keep missing distinct\n",
    "    x_low = x.lower()\n",
    "    if 'carcinoma' in x_low:\n",
    "        return 'Carcinoma'\n",
    "    else:\n",
    "        return 'non_carcinoma'\n",
    "    return 'Other'\n",
    "\n",
    "\n",
    "clinical_filtered_ = cp.deepcopy(clinical_filtered)\n",
    "clinical_filtered_['dx_group'] = diag.map(collapse_dx)\n",
    "\n",
    "# Quick sanity check\n",
    "clinical_filtered_['dx_group'].value_counts(dropna=False)"
   ]
  },
  {
   "cell_type": "code",
   "execution_count": null,
   "metadata": {},
   "outputs": [],
   "source": [
    "# 1. Total dataset size\n",
    "total = len(clinical_filtered_)\n",
    "print(f\"Total samples after filtering: {total}\")\n",
    "\n",
    "# 2. Patients per class (only the 5 groups, drop NaN)\n",
    "counts = clinical_filtered_['dx_group'].value_counts(dropna=True)\n",
    "print(\"\\nPatients per diagnostic super-class:\")\n",
    "print(counts)\n",
    "\n",
    "# 3. Scatter plot\n",
    "#   x positions 0–4, y = counts; color‐coded by class index\n",
    "x = np.arange(len(counts))\n",
    "y = counts.values\n",
    "\n",
    "plt.figure(figsize=(8, 5))\n",
    "plt.scatter(x, y, c=x)               # map each class to a different color automatically\n",
    "plt.xticks(x, counts.index, rotation=45, ha='right')\n",
    "plt.ylabel(\"Number of patients\")\n",
    "plt.title(\"Patient counts by diagnostic super-class\")\n",
    "plt.tight_layout()\n",
    "plt.show()"
   ]
  },
  {
   "cell_type": "code",
   "execution_count": null,
   "metadata": {},
   "outputs": [],
   "source": [
    "# Only set the index if it's not already set\n",
    "if 'sample_id' in rnaseq.columns:\n",
    "    rnaseq = rnaseq.set_index(\"sample_id\")\n",
    "\n",
    "# Likewise for the metadata\n",
    "meta = clinical_filtered_.set_index('sample_id')['dx_group'].dropna()\n",
    "\n",
    "# Align metadata and expression data\n",
    "common_ids = meta.index.intersection(rnaseq.index)\n",
    "rnaseq_sub = rnaseq.loc[common_ids]\n",
    "dx_groups = meta.loc[common_ids].astype('category')"
   ]
  },
  {
   "cell_type": "code",
   "execution_count": null,
   "metadata": {},
   "outputs": [],
   "source": [
    "# 4. PCA\n",
    "pca = PCA(n_components=2)\n",
    "coords = pca.fit_transform(rnaseq_sub.values)"
   ]
  },
  {
   "cell_type": "code",
   "execution_count": null,
   "metadata": {},
   "outputs": [],
   "source": [
    "# 5. Plot\n",
    "plt.figure(figsize=(8, 6))\n",
    "for cat in dx_groups.cat.categories:\n",
    "    mask = dx_groups == cat\n",
    "    plt.scatter(coords[mask, 0], coords[mask, 1], s=20, label=cat)\n",
    "plt.xlabel('PC1')\n",
    "plt.ylabel('PC2')\n",
    "plt.title('PCA of RNA-seq by 2 Groups')\n",
    "plt.legend(title='Group', bbox_to_anchor=(1.05, 1), loc='upper left')\n",
    "plt.tight_layout()\n",
    "plt.show()"
   ]
  },
  {
   "cell_type": "code",
   "execution_count": null,
   "metadata": {},
   "outputs": [],
   "source": [
    "# 6. UMAP\n",
    "\n",
    "umap_model = umap.UMAP(n_components=2, random_state=42)\n",
    "umap_coords = umap_model.fit_transform(rnaseq_sub.values)\n",
    "\n"
   ]
  },
  {
   "cell_type": "code",
   "execution_count": null,
   "metadata": {},
   "outputs": [],
   "source": [
    "# 7. UMAP Plot\n",
    "plt.figure(figsize=(8, 6))\n",
    "for cat in dx_groups.cat.categories:\n",
    "    mask = dx_groups == cat\n",
    "    plt.scatter(umap_coords[mask, 0], umap_coords[mask, 1], s=20, label=cat)\n",
    "plt.xlabel('UMAP1')\n",
    "plt.ylabel('UMAP2')\n",
    "plt.title('UMAP of RNA-seq by Diagnostic Group')\n",
    "plt.legend(title='Group', bbox_to_anchor=(1.05, 1), loc='upper left')\n",
    "plt.tight_layout()\n",
    "plt.show()"
   ]
  },
  {
   "cell_type": "code",
   "execution_count": null,
   "metadata": {},
   "outputs": [],
   "source": []
  },
  {
   "cell_type": "code",
   "execution_count": null,
   "metadata": {},
   "outputs": [],
   "source": [
    "\n",
    "# Set index \n",
    "if 'sample_id' in rnaseq.columns:\n",
    "    rnaseq = rnaseq.set_index('sample_id')\n",
    "if 'sample_id' in clinical_filtered.columns:\n",
    "    clinical_filtered = clinical_filtered.set_index('sample_id')\n",
    "\n",
    "# Create copy\n",
    "clinical_filtered_ = clinical_filtered.copy()\n",
    "\n",
    "# 1. Create dx_group from primary diagnosis (≥600 threshold)\n",
    "dx_counts = clinical_filtered['primary_diagnosis.diagnoses'].value_counts()\n",
    "major_classes = dx_counts[dx_counts >= 600].index.tolist()\n",
    "\n",
    "def group_diagnosis(dx):\n",
    "    if pd.isna(dx):\n",
    "        return np.nan\n",
    "    elif dx in major_classes:\n",
    "        return dx\n",
    "    else:\n",
    "        return 'Other'\n",
    "\n",
    "clinical_filtered_['dx_group'] = clinical_filtered['primary_diagnosis.diagnoses'].apply(group_diagnosis)\n",
    "\n",
    "# 2. Stats\n",
    "total = len(clinical_filtered_)\n",
    "print(f\"Total samples: {total}\")\n",
    "dx_group_counts = clinical_filtered_['dx_group'].value_counts(dropna=True)\n",
    "print(\"\\nPatients per group:\\n\", dx_group_counts)\n",
    "\n",
    "# 3. Scatter plot of group counts\n",
    "x = np.arange(len(dx_group_counts))\n",
    "y = dx_group_counts.values\n",
    "plt.figure(figsize=(8, 5))\n",
    "plt.scatter(x, y, c=x)\n",
    "plt.xticks(x, dx_group_counts.index, rotation=45, ha='right')\n",
    "plt.ylabel(\"Number of patients\")\n",
    "plt.title(\"Patient counts by diagnostic group (>600 grouped)\")\n",
    "plt.tight_layout()\n",
    "plt.show()\n",
    "\n",
    "# 4. Align expression data and metadata\n",
    "meta = clinical_filtered_['dx_group'].dropna()\n",
    "# meta = clinical_filtered_['dx_group']\n",
    "# meta = meta[meta.notna() & (meta != 'Other')]\n",
    "common_ids = rnaseq.index.intersection(meta.index)\n",
    "print(f\"\\nMatched samples: {len(common_ids)}\")\n",
    "rnaseq_sub = rnaseq.loc[common_ids]\n",
    "dx_groups = meta.loc[common_ids].astype('category')\n",
    "\n",
    "# 5. PCA\n",
    "pca = PCA(n_components=2)\n",
    "pca_coords = pca.fit_transform(rnaseq_sub.values)\n",
    "\n",
    "# 6. PCA plot\n",
    "plt.figure(figsize=(8, 6))\n",
    "for cat in dx_groups.cat.categories:\n",
    "    mask = dx_groups == cat\n",
    "    plt.scatter(pca_coords[mask, 0], pca_coords[mask, 1], s=20, label=cat)      \n",
    "plt.xlabel('PC1')\n",
    "plt.ylabel('PC2')\n",
    "plt.title('PCA of RNA-seq by Diagnostic Group')\n",
    "plt.legend(title='Group', bbox_to_anchor=(1.05, 1), loc='upper left')\n",
    "plt.tight_layout()\n",
    "plt.show()\n",
    "\n",
    "# 7. UMAP\n",
    "umap_model = umap.UMAP(n_components=2, random_state=42)\n",
    "umap_coords = umap_model.fit_transform(rnaseq_sub.values)\n",
    "\n"
   ]
  },
  {
   "cell_type": "code",
   "execution_count": null,
   "metadata": {},
   "outputs": [],
   "source": [
    "# 8. UMAP plot\n",
    "plt.figure(figsize=(8, 6))\n",
    "for cat in dx_groups.cat.categories:\n",
    "    mask = dx_groups == cat\n",
    "    plt.scatter(umap_coords[mask, 0], umap_coords[mask, 1], s=2, alpha= .7, label=cat)\n",
    "plt.xlabel('UMAP1')\n",
    "plt.ylabel('UMAP2')\n",
    "plt.title('UMAP of RNA-seq by Diagnostic Group')\n",
    "plt.legend(title='Group', bbox_to_anchor=(1.05, 1), loc='upper left')\n",
    "plt.tight_layout()\n",
    "plt.show()"
   ]
  },
  {
   "cell_type": "code",
   "execution_count": null,
   "metadata": {},
   "outputs": [],
   "source": []
  },
  {
   "cell_type": "code",
   "execution_count": null,
   "metadata": {},
   "outputs": [],
   "source": [
    "# Unified in major subcluasses. NaN kept. \n",
    "clinical_filtered['ajcc_pathologic_t.diagnoses'].value_counts()"
   ]
  },
  {
   "cell_type": "code",
   "execution_count": null,
   "metadata": {},
   "outputs": [],
   "source": [
    "clinical_filtered[\"ajcc_pathologic_t.diagnoses\"].isna().sum()"
   ]
  },
  {
   "cell_type": "code",
   "execution_count": null,
   "metadata": {},
   "outputs": [],
   "source": [
    "clinical_filtered.shape[0] - clinical_filtered['ajcc_pathologic_t.diagnoses'].value_counts().sum()"
   ]
  },
  {
   "cell_type": "code",
   "execution_count": null,
   "metadata": {},
   "outputs": [],
   "source": []
  },
  {
   "cell_type": "code",
   "execution_count": null,
   "metadata": {},
   "outputs": [],
   "source": [
    "# Same. Major classes, many NaN (kept)\n",
    "clinical_filtered['ajcc_pathologic_n.diagnoses'].value_counts()"
   ]
  },
  {
   "cell_type": "code",
   "execution_count": null,
   "metadata": {},
   "outputs": [],
   "source": [
    "clinical_filtered[\"ajcc_pathologic_n.diagnoses\"].isna().sum()"
   ]
  },
  {
   "cell_type": "code",
   "execution_count": null,
   "metadata": {},
   "outputs": [],
   "source": [
    "clinical_filtered.shape[0] - clinical_filtered['ajcc_pathologic_n.diagnoses'].value_counts().sum()"
   ]
  },
  {
   "cell_type": "code",
   "execution_count": null,
   "metadata": {},
   "outputs": [],
   "source": []
  },
  {
   "cell_type": "code",
   "execution_count": null,
   "metadata": {},
   "outputs": [],
   "source": [
    "# Grouped and kept, even if there are many nanos \n",
    "clinical_filtered['ajcc_pathologic_m.diagnoses'].value_counts()"
   ]
  },
  {
   "cell_type": "code",
   "execution_count": null,
   "metadata": {},
   "outputs": [],
   "source": [
    "clinical_filtered[\"ajcc_pathologic_m.diagnoses\"].isna().sum()"
   ]
  },
  {
   "cell_type": "code",
   "execution_count": null,
   "metadata": {},
   "outputs": [],
   "source": [
    "clinical_filtered.shape[0] - clinical_filtered['ajcc_pathologic_m.diagnoses'].value_counts().sum()"
   ]
  },
  {
   "cell_type": "code",
   "execution_count": null,
   "metadata": {},
   "outputs": [],
   "source": []
  },
  {
   "cell_type": "code",
   "execution_count": null,
   "metadata": {},
   "outputs": [],
   "source": [
    "# Na left aside. \n",
    "clinical_filtered['tissue_type.samples'].value_counts()"
   ]
  },
  {
   "cell_type": "code",
   "execution_count": null,
   "metadata": {},
   "outputs": [],
   "source": [
    "clinical_filtered[\"tissue_type.samples\"].isna().sum()"
   ]
  },
  {
   "cell_type": "code",
   "execution_count": null,
   "metadata": {},
   "outputs": [],
   "source": [
    "clinical_filtered.shape[0] - clinical_filtered['tissue_type.samples'].value_counts().sum()"
   ]
  },
  {
   "cell_type": "code",
   "execution_count": null,
   "metadata": {},
   "outputs": [],
   "source": []
  },
  {
   "cell_type": "code",
   "execution_count": null,
   "metadata": {},
   "outputs": [],
   "source": [
    "pd.set_option('display.max_rows', None)"
   ]
  },
  {
   "cell_type": "code",
   "execution_count": null,
   "metadata": {},
   "outputs": [],
   "source": [
    "# renaming the columns\n",
    "rename_columns = {\n",
    "    'gender.demographic': 'gender',\n",
    "    'vital_status.demographic': 'vital_status',\n",
    "    'age_at_index.demographic': 'age',\n",
    "    'ajcc_pathologic_stage.diagnoses': 'ajcc_pathologic_stage',\n",
    "    'primary_diagnosis.diagnoses': 'diagnosis',\n",
    "    'ajcc_pathologic_t.diagnoses': 'ajcc_pathologic_t',\n",
    "    'ajcc_pathologic_n.diagnoses': 'ajcc_pathologic_n',\n",
    "    'ajcc_pathologic_m.diagnoses': 'ajcc_pathologic_m',\n",
    "    'tissue_type.samples': 'tissue_type'}\n",
    "\n",
    "clinical_filtered = clinical_filtered.rename(columns=rename_columns)"
   ]
  },
  {
   "cell_type": "code",
   "execution_count": null,
   "metadata": {},
   "outputs": [],
   "source": [
    "# count nans\n",
    "clinical_filtered.isna().sum()"
   ]
  },
  {
   "cell_type": "code",
   "execution_count": null,
   "metadata": {},
   "outputs": [],
   "source": [
    "#count samples with at least one nan\n",
    "(clinical_filtered.isna().sum(axis=1) > 0).sum()\n"
   ]
  },
  {
   "cell_type": "code",
   "execution_count": null,
   "metadata": {},
   "outputs": [],
   "source": [
    "#count all nan\n",
    "clinical_filtered.isna().sum(axis=1).sum()"
   ]
  },
  {
   "cell_type": "code",
   "execution_count": null,
   "metadata": {},
   "outputs": [],
   "source": [
    "# Group  the stages \n",
    "stage_map = {\n",
    "    \"Stage 0\": \"0\",\n",
    "    \"Stage I\": \"1\", \"Stage IA\": \"1\", \"Stage IB\": \"1\", \"Stage IS\": \"1\",\n",
    "    \"Stage II\": \"2\", \"Stage IIA\": \"2\", \"Stage IIB\": \"2\", \"Stage IIC\": \"2\",\n",
    "    \"Stage III\": \"3\", \"Stage IIIA\": \"3\", \"Stage IIIB\": \"3\", \"Stage IIIC\": \"3\",\n",
    "    \"Stage IV\": \"4\", \"Stage IVA\": \"4\", \"Stage IVB\": \"4\", \"Stage IVC\": \"4\",\n",
    "    \"Stage X\": pd.NA,\n",
    "    \"Not Reported\": pd.NA\n",
    "}\n",
    "clinical_filtered[\"ajcc_pathologic_stage\"] = clinical_filtered[\"ajcc_pathologic_stage\"].replace(stage_map)"
   ]
  },
  {
   "cell_type": "code",
   "execution_count": null,
   "metadata": {},
   "outputs": [],
   "source": [
    "print(clinical_filtered['ajcc_pathologic_stage'].value_counts())"
   ]
  },
  {
   "cell_type": "code",
   "execution_count": null,
   "metadata": {},
   "outputs": [],
   "source": [
    "# Put class 0 in 1\n",
    "clinical_filtered[\"ajcc_pathologic_stage\"] = clinical_filtered[\"ajcc_pathologic_stage\"].replace(\"0\", \"1\")"
   ]
  },
  {
   "cell_type": "code",
   "execution_count": null,
   "metadata": {},
   "outputs": [],
   "source": []
  },
  {
   "cell_type": "code",
   "execution_count": null,
   "metadata": {},
   "outputs": [],
   "source": [
    "# Group the diagnosis \n",
    "# Major classes (≥600 patients)\n",
    "dx_counts = clinical_filtered['diagnosis'].value_counts()\n",
    "major_classes = dx_counts[dx_counts >= 600].index.tolist()\n",
    "\n",
    "# Low-frequency diagnoses with 'Other'\n",
    "clinical_filtered['diagnosis'] = clinical_filtered['diagnosis'].apply(\n",
    "    lambda dx: dx if pd.isna(dx) or dx in major_classes else 'Other'\n",
    ")"
   ]
  },
  {
   "cell_type": "code",
   "execution_count": null,
   "metadata": {},
   "outputs": [],
   "source": [
    "print(clinical_filtered['diagnosis'].value_counts())"
   ]
  },
  {
   "cell_type": "code",
   "execution_count": null,
   "metadata": {},
   "outputs": [],
   "source": []
  },
  {
   "cell_type": "code",
   "execution_count": null,
   "metadata": {},
   "outputs": [],
   "source": [
    "# new categories for pathologic T: 1, 2, 3 or higher\n",
    "\n",
    "clinical_filtered[\"ajcc_pathologic_t\"] = clinical_filtered[\"ajcc_pathologic_t\"].replace({\n",
    "    # Tis and T0 → 0 (non-invasive/in situ)\n",
    "    \"Tis\": \"0\", \"T0\": \"0\",\n",
    "\n",
    "    # T1 group\n",
    "    \"T1\": \"1\", \"T1a\": \"1\", \"T1b\": \"1\", \"T1c\": \"1\",\n",
    "    \"T1b1\": \"1\", \"T1b2\": \"1\", \"T1a1\": \"1\",\n",
    "\n",
    "    # T2 group\n",
    "    \"T2\": \"2\", \"T2a\": \"2\", \"T2b\": \"2\", \"T2c\": \"2\",\n",
    "    \"T2a1\": \"2\", \"T2a2\": \"2\",\n",
    "\n",
    "    # T3 + T4 group\n",
    "    \"T3\": \"3\", \"T3a\": \"3\", \"T3b\": \"3\", \"T3c\": \"3\",\n",
    "    \"T4\": \"3\", \"T4a\": \"3\", \"T4b\": \"3\", \"T4c\": \"3\", \"T4d\": \"3\",\n",
    "\n",
    "    # Unknown\n",
    "    \"TX\": \"X\"\n",
    "})\n"
   ]
  },
  {
   "cell_type": "code",
   "execution_count": null,
   "metadata": {},
   "outputs": [],
   "source": [
    "print(clinical_filtered['ajcc_pathologic_t'].value_counts())"
   ]
  },
  {
   "cell_type": "code",
   "execution_count": null,
   "metadata": {},
   "outputs": [],
   "source": [
    "# Put 0 in 1, and X in NaN\n",
    "clinical_filtered[\"ajcc_pathologic_t\"] = clinical_filtered[\"ajcc_pathologic_t\"].replace(\"0\", \"1\")\n",
    "clinical_filtered[\"ajcc_pathologic_t\"] = clinical_filtered[\"ajcc_pathologic_t\"].replace(\"X\", pd.NA)"
   ]
  },
  {
   "cell_type": "code",
   "execution_count": null,
   "metadata": {},
   "outputs": [],
   "source": [
    "# new categories for pathologic N: 0, 1 or higher\n",
    "clinical_filtered[\"ajcc_pathologic_n\"] = clinical_filtered[\"ajcc_pathologic_n\"].replace({\n",
    "    # N0 group\n",
    "    \"N0\": \"0\", \"N0 (i-)\": \"0\", \"N0 (i+)\": \"0\", \"N0 (mol+)\": \"0\",\n",
    "    \n",
    "    # N1 group\n",
    "    \"N1\": \"1\", \"N1a\": \"1\", \"N1b\": \"1\", \"N1c\": \"1\", \"N1mi\": \"1\",\n",
    "    \n",
    "    # N2 group\n",
    "    \"N2\": \"2\", \"N2a\": \"2\", \"N2b\": \"2\", \"N2c\": \"2\",\n",
    "    \n",
    "    # N3 group mapped into \"2\"\n",
    "    \"N3\": \"2\", \"N3a\": \"2\", \"N3b\": \"2\", \"N3c\": \"2\",\n",
    "    \n",
    "    # Unknown\n",
    "    \"NX\": \"X\"\n",
    "})"
   ]
  },
  {
   "cell_type": "code",
   "execution_count": null,
   "metadata": {},
   "outputs": [],
   "source": [
    "print(clinical_filtered['ajcc_pathologic_n'].value_counts())"
   ]
  },
  {
   "cell_type": "code",
   "execution_count": null,
   "metadata": {},
   "outputs": [],
   "source": [
    "# Put X in NaN\n",
    "clinical_filtered[\"ajcc_pathologic_n\"] = clinical_filtered[\"ajcc_pathologic_n\"].replace(\"X\", pd.NA)"
   ]
  },
  {
   "cell_type": "code",
   "execution_count": null,
   "metadata": {},
   "outputs": [],
   "source": [
    "# new categories for pathologic M: 0, 1 or X\n",
    "clinical_filtered[\"ajcc_pathologic_m\"] = clinical_filtered[\"ajcc_pathologic_m\"].replace({\n",
    "    \"M0\": \"M0\", \n",
    "    \"cM0 (i+)\": \"M0\",\n",
    "    \"M1\": \"M1\", \n",
    "    \"M1a\": \"M1\",\n",
    "    \"M1b\": \"M1\",\n",
    "    \"M1c\": \"M1\",\n",
    "    \"MX\": \"MX\"\n",
    "})"
   ]
  },
  {
   "cell_type": "code",
   "execution_count": null,
   "metadata": {},
   "outputs": [],
   "source": [
    "print(clinical_filtered['ajcc_pathologic_m'].value_counts())"
   ]
  },
  {
   "cell_type": "code",
   "execution_count": null,
   "metadata": {},
   "outputs": [],
   "source": [
    "# Put X in NaN\n",
    "clinical_filtered[\"ajcc_pathologic_m\"] = clinical_filtered[\"ajcc_pathologic_m\"].replace(\"MX\", pd.NA)"
   ]
  },
  {
   "cell_type": "code",
   "execution_count": null,
   "metadata": {},
   "outputs": [],
   "source": []
  },
  {
   "cell_type": "code",
   "execution_count": null,
   "metadata": {},
   "outputs": [],
   "source": [
    "# Select the relevant columns (assuming cancertype is already merged in)\n",
    "cols_to_check = [col for col in clinical_filtered.columns if col != 'sample_id']\n",
    "cols_to_check = [col for col in cols_to_check if col != 'cancertype']\n",
    "\n",
    "# Group by cancertype and count NaNs\n",
    "nan_counts = clinical_filtered.groupby('cancertype')[cols_to_check].apply(lambda df: df.isna().sum())\n",
    "\n",
    "# Plot\n",
    "nan_counts.plot(kind='bar', figsize=(14, 6), width=0.85)\n",
    "\n",
    "plt.title('Number of NaNs per Cancer Type per Column after cleaning')\n",
    "plt.ylabel('Number of Missing Values')\n",
    "plt.xlabel('Cancer Type')\n",
    "plt.xticks(rotation=45, ha='right')\n",
    "plt.tight_layout()\n",
    "plt.legend(title=\"Variable\", bbox_to_anchor=(1.05, 1), loc='upper left')\n",
    "plt.grid(axis='y', linestyle='--', alpha=0.6)\n",
    "plt.show()"
   ]
  },
  {
   "cell_type": "code",
   "execution_count": null,
   "metadata": {},
   "outputs": [],
   "source": []
  },
  {
   "cell_type": "code",
   "execution_count": null,
   "metadata": {},
   "outputs": [],
   "source": [
    "# print new value counts\n",
    "for column in clinical_filtered.columns:\n",
    "    if column == 'sample_id' or column == 'age' or column == 'cancertype':\n",
    "        continue\n",
    "    print(f\"Value counts for {column}:\")\n",
    "    print(clinical_filtered[column].value_counts())\n",
    "    print()"
   ]
  },
  {
   "cell_type": "markdown",
   "metadata": {},
   "source": [
    "## Dealing with Missing values"
   ]
  },
  {
   "cell_type": "code",
   "execution_count": null,
   "metadata": {},
   "outputs": [],
   "source": [
    "# print rows with \"X\" values\n",
    "\n",
    "rows_with_x = clinical_filtered[(clinical_filtered == 'X').any(axis=1)]\n",
    "print(rows_with_x.shape[0])"
   ]
  },
  {
   "cell_type": "code",
   "execution_count": null,
   "metadata": {},
   "outputs": [],
   "source": [
    "# # drop rows with \"X\" values\n",
    "\n",
    "# clinical = clinical[~(clinical == 'X').any(axis=1)]\n",
    "# clinical.shape"
   ]
  },
  {
   "cell_type": "code",
   "execution_count": null,
   "metadata": {},
   "outputs": [],
   "source": [
    "# save cleaned clinical data\n",
    "\n",
    "clinical_filtered.to_csv('../datasets_TCGA/merged/reduced_clinical.csv', index=True)"
   ]
  }
 ],
 "metadata": {
  "kernelspec": {
   "display_name": "base",
   "language": "python",
   "name": "python3"
  },
  "language_info": {
   "codemirror_mode": {
    "name": "ipython",
    "version": 3
   },
   "file_extension": ".py",
   "mimetype": "text/x-python",
   "name": "python",
   "nbconvert_exporter": "python",
   "pygments_lexer": "ipython3",
   "version": "3.10.13"
  }
 },
 "nbformat": 4,
 "nbformat_minor": 2
}
