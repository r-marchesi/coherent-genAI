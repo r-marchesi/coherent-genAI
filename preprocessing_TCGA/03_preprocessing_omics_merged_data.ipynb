{
 "cells": [
  {
   "cell_type": "code",
   "execution_count": null,
   "metadata": {},
   "outputs": [],
   "source": [
    "import pandas as pd\n",
    "\n",
    "from sklearn.decomposition import PCA"
   ]
  },
  {
   "cell_type": "code",
   "execution_count": null,
   "metadata": {},
   "outputs": [],
   "source": [
    "# select the number of variables for the dimensionality reduction of the omics data\n",
    "n_variables = 30"
   ]
  },
  {
   "cell_type": "code",
   "execution_count": null,
   "metadata": {},
   "outputs": [],
   "source": [
    "from pathlib import Path\n",
    "\n",
    "# In a .ipynb, __file__ is not defined — we simulate it with cwd (current working dir)\n",
    "SCRIPT_DIR = Path().resolve()  # acts as notebook's current directory\n",
    "DATA_ROOT  = (SCRIPT_DIR / \"..\" / \"datasets_TCGA\").resolve()\n",
    "MERGE_DIR  = DATA_ROOT / \"merged\"\n",
    "MERGE_DIR.mkdir(parents=True, exist_ok=True)  # optional: ensure directory exists\n",
    "\n",
    "# Load data\n",
    "merged_rna  = pd.read_csv(MERGE_DIR / \"merged_rnaseq_QC.csv\")\n",
    "merged_prot = pd.read_csv(MERGE_DIR / \"merged_rppa.csv\")\n",
    "merged_dna  = pd.read_csv(MERGE_DIR / \"merged_cna.csv\")"
   ]
  },
  {
   "cell_type": "code",
   "execution_count": null,
   "metadata": {},
   "outputs": [],
   "source": [
    "print(f\"RNA shape: {merged_rna.shape}\",\n",
    "      f\"Protein shape: {merged_prot.shape}\",\n",
    "      f\"DNA shape: {merged_dna.shape}\")"
   ]
  },
  {
   "cell_type": "code",
   "execution_count": null,
   "metadata": {},
   "outputs": [],
   "source": [
    "### OPTIONAL FILTERING: keep only genes with gene type 'protein_coding' ###\n",
    "'''\n",
    "# get list of genes that have protein coding gene type \n",
    "gene_types = pd.read_csv('../datasets/gene_types.csv')\n",
    "protein_coding_genes = gene_types[gene_types['gene_type'] == 'protein_coding']['gene_id']\n",
    "\n",
    "# Filter the columns\n",
    "filtered_columns = ['sample_id'] + protein_coding_genes.tolist()\n",
    "\n",
    "rnaseq = rnaseq[filtered_columns]\n",
    "gene_level = gene_level[filtered_columns]\n",
    "'''"
   ]
  },
  {
   "cell_type": "code",
   "execution_count": null,
   "metadata": {},
   "outputs": [],
   "source": [
    "# Keep IDs with 2 or more other omics\n",
    "to_delete = pd.read_csv('../datasets_TCGA/summary_removed_<2_omics_TCGA.tsv', sep='\\t')\n",
    "to_delete_ids = to_delete['sample_id'].astype(str).values\n",
    "\n",
    "rnaseq = merged_rna[~merged_rna['sample_id'].astype(str).isin(to_delete_ids)].reset_index(drop=True)\n",
    "protein = merged_prot[~merged_prot['sample_id'].astype(str).isin(to_delete_ids)].reset_index(drop=True)\n",
    "gene_level = merged_dna[~merged_dna['sample_id'].astype(str).isin(to_delete_ids)].reset_index(drop=True)\n",
    "# gene_level only in this script, but this will be saved with another name, as it is biologcially wrong."
   ]
  },
  {
   "cell_type": "code",
   "execution_count": null,
   "metadata": {},
   "outputs": [],
   "source": [
    "# Check for missing values\n",
    "\n",
    "nan_count_by_column = rnaseq.isna().sum()\n",
    "columns_with_nan = nan_count_by_column[nan_count_by_column > 0].count()\n",
    "print(\"Number of rnaseq columns with missing values:\", columns_with_nan)\n",
    "\n",
    "nan_count_by_column = protein.isna().sum()\n",
    "columns_with_nan = nan_count_by_column[nan_count_by_column > 0].count()\n",
    "print(\"Number of protein columns with missing values:\", columns_with_nan)\n",
    "\n",
    "nan_count_by_column = gene_level.isna().sum()\n",
    "columns_with_nan = nan_count_by_column[nan_count_by_column > 0].count() # G: Here gene level seems a bit confusing, as I'd think about RNA, directly. \n",
    "print(\"Number of gene level columns with missing values:\", columns_with_nan)"
   ]
  },
  {
   "cell_type": "code",
   "execution_count": null,
   "metadata": {},
   "outputs": [],
   "source": [
    "# drop the columns with missing values\n",
    "rnaseq = rnaseq.dropna(axis=1)\n",
    "protein = protein.dropna(axis=1)\n",
    "gene_level = gene_level.dropna(axis=1)\n",
    "\n",
    "# print shapes\n",
    "print(\"rnaseq shape:\", rnaseq.shape)\n",
    "print(\"protein shape:\", protein.shape)\n",
    "print(\"gene level shape:\", gene_level.shape)"
   ]
  },
  {
   "cell_type": "code",
   "execution_count": null,
   "metadata": {},
   "outputs": [],
   "source": [
    "#Discuss the harsh drop of dna CNV. "
   ]
  },
  {
   "cell_type": "code",
   "execution_count": null,
   "metadata": {},
   "outputs": [],
   "source": [
    "# Save the reduced datasets using pathlib\n",
    "\n",
    "rnaseq.to_csv(MERGE_DIR / f\"reduced_rnaseq.csv\", index=False)\n",
    "protein.to_csv(MERGE_DIR / f\"reduced_rppa.csv\", index=False)\n",
    "gene_level.to_csv(MERGE_DIR / f\"reduced_cna.csv\", index=False)"
   ]
  },
  {
   "cell_type": "code",
   "execution_count": null,
   "metadata": {},
   "outputs": [],
   "source": []
  },
  {
   "cell_type": "markdown",
   "metadata": {},
   "source": [
    "## Dimensionality Reduction"
   ]
  },
  {
   "cell_type": "code",
   "execution_count": null,
   "metadata": {},
   "outputs": [],
   "source": [
    "# RNA data\n",
    "\n",
    "# Calculate variance for each gene (excluding 'sample_id')\n",
    "variances = rnaseq.drop(columns=['sample_id']).var()\n",
    "\n",
    "# Get indices of top `n_variables` genes with highest variance\n",
    "top_gene_indices = variances.argsort()[::-1][:n_variables]\n",
    "rna_to_keep_columns = variances.index[top_gene_indices]\n",
    "\n",
    "# Add 'sample_id' and subset the dataframe\n",
    "columns_to_keep = ['sample_id'] + list(rna_to_keep_columns)\n",
    "rnaseq_reduced = rnaseq[columns_to_keep]"
   ]
  },
  {
   "cell_type": "code",
   "execution_count": null,
   "metadata": {},
   "outputs": [],
   "source": [
    "# Protein data\n",
    "\n",
    "# Calculate variance for each protein (excluding 'sample_id')\n",
    "variances = protein.drop(columns=['sample_id']).var()\n",
    "\n",
    "# Get indices of top `n_variables` proteins with highest variance\n",
    "top_protein_indices = variances.argsort()[::-1][:n_variables]\n",
    "proteins_to_keep_columns = variances.index[top_protein_indices]\n",
    "\n",
    "# Add 'sample_id' and subset the dataframe\n",
    "columns_to_keep = ['sample_id'] + list(proteins_to_keep_columns)\n",
    "protein_reduced = protein[columns_to_keep]"
   ]
  },
  {
   "cell_type": "code",
   "execution_count": null,
   "metadata": {},
   "outputs": [],
   "source": [
    "# Gene level data\n",
    "\n",
    "# Separate features and sample_id\n",
    "features = gene_level.drop(columns=['sample_id'])\n",
    "sample_ids = gene_level['sample_id']\n",
    "\n",
    "# Apply PCA to reduce to `n_variables` components\n",
    "pca = PCA(n_components=n_variables)\n",
    "pca_components = pca.fit_transform(features)\n",
    "\n",
    "# Create a DataFrame with PCA components and sample_id\n",
    "pca_df = pd.DataFrame(pca_components, columns=[f'PC{i+1}' for i in range(n_variables)])\n",
    "pca_df.insert(0, 'sample_id', sample_ids)\n",
    "gene_level_reduced = pca_df"
   ]
  },
  {
   "cell_type": "code",
   "execution_count": null,
   "metadata": {},
   "outputs": [],
   "source": [
    "# Save the reduced datasets using pathlib\n",
    "\n",
    "rnaseq_reduced.to_csv(MERGE_DIR / f\"reduced_rnaseq_{n_variables}.csv\", index=False)\n",
    "protein_reduced.to_csv(MERGE_DIR / f\"reduced_rppa_{n_variables}.csv\", index=False)\n",
    "gene_level_reduced.to_csv(MERGE_DIR / f\"reduced_cna_{n_variables}.csv\", index=False)\n"
   ]
  }
 ],
 "metadata": {
  "kernelspec": {
   "display_name": "base",
   "language": "python",
   "name": "python3"
  },
  "language_info": {
   "codemirror_mode": {
    "name": "ipython",
    "version": 3
   },
   "file_extension": ".py",
   "mimetype": "text/x-python",
   "name": "python",
   "nbconvert_exporter": "python",
   "pygments_lexer": "ipython3",
   "version": "3.10.13"
  }
 },
 "nbformat": 4,
 "nbformat_minor": 2
}
